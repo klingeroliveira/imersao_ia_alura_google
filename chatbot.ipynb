{
  "nbformat": 4,
  "nbformat_minor": 0,
  "metadata": {
    "colab": {
      "provenance": [],
      "authorship_tag": "ABX9TyOihGNNDHugmiV6QWiTo5nN",
      "include_colab_link": true
    },
    "kernelspec": {
      "name": "python3",
      "display_name": "Python 3"
    },
    "language_info": {
      "name": "python"
    }
  },
  "cells": [
    {
      "cell_type": "markdown",
      "metadata": {
        "id": "view-in-github",
        "colab_type": "text"
      },
      "source": [
        "<a href=\"https://colab.research.google.com/github/klingeroliveira/imersao_ia_alura_google/blob/main/chatbot.ipynb\" target=\"_parent\"><img src=\"https://colab.research.google.com/assets/colab-badge.svg\" alt=\"Open In Colab\"/></a>"
      ]
    },
    {
      "cell_type": "markdown",
      "source": [
        "Intalando o SDK do Google"
      ],
      "metadata": {
        "id": "4WlY0j7wYGrr"
      }
    },
    {
      "cell_type": "code",
      "execution_count": 22,
      "metadata": {
        "id": "x2OQRbrlX_lh"
      },
      "outputs": [],
      "source": [
        "!pip install -q -U google-generativeai"
      ]
    },
    {
      "cell_type": "markdown",
      "source": [
        "Importando IA Generativa e inicializando com a API KEY"
      ],
      "metadata": {
        "id": "xtVgqdyMYV-7"
      }
    },
    {
      "cell_type": "code",
      "source": [
        "# Import the Python SDK\n",
        "import google.generativeai as genai\n",
        "# Used to securely store your API key\n",
        "from google.colab import userdata\n",
        "\n",
        "GOOGLE_API_KEY=userdata.get('SECRET_KEY')\n",
        "\n",
        "genai.configure(api_key=GOOGLE_API_KEY)"
      ],
      "metadata": {
        "id": "6vPxZuGsYS60"
      },
      "execution_count": 23,
      "outputs": []
    },
    {
      "cell_type": "markdown",
      "source": [],
      "metadata": {
        "id": "HEatUWOuYszm"
      }
    },
    {
      "cell_type": "code",
      "source": [
        "for m in genai.list_models():\n",
        "  if 'generateContent' in m.supported_generation_methods:\n",
        "    print(m.name)"
      ],
      "metadata": {
        "colab": {
          "base_uri": "https://localhost:8080/",
          "height": 139
        },
        "id": "JpC8bbOvYr1j",
        "outputId": "8e74db71-6b58-491a-82dd-b1dcac4bfb4c"
      },
      "execution_count": 24,
      "outputs": [
        {
          "output_type": "stream",
          "name": "stdout",
          "text": [
            "models/gemini-1.0-pro\n",
            "models/gemini-1.0-pro-001\n",
            "models/gemini-1.0-pro-latest\n",
            "models/gemini-1.0-pro-vision-latest\n",
            "models/gemini-1.5-pro-latest\n",
            "models/gemini-pro\n",
            "models/gemini-pro-vision\n"
          ]
        }
      ]
    },
    {
      "cell_type": "markdown",
      "source": [
        "Configurando temperatura"
      ],
      "metadata": {
        "id": "Wxj5zdhsbpRe"
      }
    },
    {
      "cell_type": "code",
      "source": [
        "generationConfig = {\n",
        "    \"candidate_count\" : 1,\n",
        "    \"temperature\" : 0.5,\n",
        "}"
      ],
      "metadata": {
        "id": "ddlIcmS5a4kM"
      },
      "execution_count": 25,
      "outputs": []
    },
    {
      "cell_type": "markdown",
      "source": [
        "Configurando variáveis de sensura"
      ],
      "metadata": {
        "id": "SWr-oPFrbtDJ"
      }
    },
    {
      "cell_type": "code",
      "source": [
        "safetySettings = {\n",
        "    \"HARASSMENT\" : \"BLOCK_NONE\",\n",
        "    \"SEXUAL\" : \"BLOCK_NONE\",\n",
        "    \"HATE\" : \"BLOCK_NONE\",\n",
        "    \"DANGEROUS\" : \"BLOCK_NONE\",\n",
        "}"
      ],
      "metadata": {
        "id": "aJPkTgAMbJcx"
      },
      "execution_count": 26,
      "outputs": []
    },
    {
      "cell_type": "markdown",
      "source": [
        "Inicializando o modelo"
      ],
      "metadata": {
        "id": "6Hwou33eb0kp"
      }
    },
    {
      "cell_type": "code",
      "source": [
        "model = genai.GenerativeModel(model_name=\"gemini-1.0-pro\",\n",
        "                              generation_config=generationConfig,\n",
        "                              safety_settings=safetySettings)"
      ],
      "metadata": {
        "id": "QdKfEuPpbynu"
      },
      "execution_count": 27,
      "outputs": []
    },
    {
      "cell_type": "markdown",
      "source": [
        "Pergunta e resposta da API Gemini"
      ],
      "metadata": {
        "id": "4YB-SZq_2yK7"
      }
    },
    {
      "cell_type": "code",
      "source": [
        "response = model.generate_content(\"Vamos aprender conteúdo sobre IA, me dê sugestões.\")\n",
        "print(response.text)"
      ],
      "metadata": {
        "colab": {
          "base_uri": "https://localhost:8080/",
          "height": 659
        },
        "id": "3gV7jJLY24k4",
        "outputId": "8f9958b8-2067-49cb-cd54-381ef3910d28"
      },
      "execution_count": 8,
      "outputs": [
        {
          "output_type": "stream",
          "name": "stdout",
          "text": [
            "**Conceitos Fundamentais:**\n",
            "\n",
            "* Definição de Inteligência Artificial (IA)\n",
            "* Tipos de IA: IA Fraca, IA Forte, IA Geral\n",
            "* Aprendizado de Máquina (ML), Aprendizado Profundo (DL) e Redes Neurais\n",
            "* Algoritmos de IA comuns: Árvores de Decisão, Regressão Linear, SVM\n",
            "\n",
            "**Aplicações da IA:**\n",
            "\n",
            "* Visão Computacional: Reconhecimento de Imagem, Processamento de Vídeo\n",
            "* Processamento de Linguagem Natural (PNL): Reconhecimento de Fala, Tradução de Idiomas\n",
            "* IA na Saúde: Diagnóstico Médico, Descoberta de Medicamentos\n",
            "* IA em Finanças: Detecção de Fraude, Previsão de Mercado\n",
            "* IA na Indústria: Automação de Processos, Otimização de Cadeia de Suprimentos\n",
            "\n",
            "**Ética e Implicações da IA:**\n",
            "\n",
            "* Viés e Discriminação em Algoritmos de IA\n",
            "* Desemprego e Automação\n",
            "* Privacidade e Segurança de Dados\n",
            "* Regulamentação e Governança da IA\n",
            "\n",
            "**Recursos de Aprendizagem:**\n",
            "\n",
            "* **Cursos Online:** Coursera, edX, Udemy\n",
            "* **Livros:** \"Inteligência Artificial: Uma Abordagem Moderna\" por Stuart Russell e Peter Norvig, \"Aprendizado Profundo\" por Ian Goodfellow, Yoshua Bengio e Aaron Courville\n",
            "* **Artigos e Pesquisas:** arXiv, Google Scholar, Nature\n",
            "* **Comunidades Online:** Reddit (r/MachineLearning, r/ArtificialIntelligence), Stack Overflow\n",
            "* **Conferências e Eventos:** NeurIPS, ICML, CVPR\n",
            "\n",
            "**Dicas de Aprendizagem:**\n",
            "\n",
            "* Comece com conceitos básicos e gradualmente avance para tópicos mais avançados.\n",
            "* Pratique regularmente resolvendo problemas e construindo projetos de IA.\n",
            "* Participe de comunidades online e colabore com outros alunos e profissionais.\n",
            "* Esteja atualizado com as últimas tendências e pesquisas em IA.\n",
            "* Não tenha medo de fazer perguntas ou buscar ajuda quando necessário.\n"
          ]
        }
      ]
    },
    {
      "cell_type": "markdown",
      "source": [
        "Chat"
      ],
      "metadata": {
        "id": "zQWsPwFZ3N3A"
      }
    },
    {
      "cell_type": "code",
      "source": [
        "chat = model.start_chat(history=[])"
      ],
      "metadata": {
        "id": "STjBEy_Z3O54"
      },
      "execution_count": 28,
      "outputs": []
    },
    {
      "cell_type": "code",
      "source": [
        "\n",
        "while prompt != \"fim\":\n",
        "  prompt = input(\"Esperando prompt: \")\n",
        "  response = chat.send_message(prompt)\n",
        "  print(\"Resposta: \", response.text, \"\\n\")\n",
        "\n",
        ""
      ],
      "metadata": {
        "colab": {
          "base_uri": "https://localhost:8080/",
          "height": 121
        },
        "id": "B0SPmW-i3qJI",
        "outputId": "cf275d4f-a58e-4f42-b968-597ea08d9229"
      },
      "execution_count": 29,
      "outputs": [
        {
          "output_type": "stream",
          "name": "stdout",
          "text": [
            "Esperando prompt: qual a menor distancia entre dois pontos?\n",
            "Resposta:  Uma linha reta \n",
            "\n",
            "Esperando prompt: fim\n",
            "Resposta:  **Fim** \n",
            "\n"
          ]
        }
      ]
    },
    {
      "cell_type": "markdown",
      "source": [
        "Outra visualização do chat\n",
        "(to_markdown formatação)"
      ],
      "metadata": {
        "id": "GgljNjzx_T4U"
      }
    },
    {
      "cell_type": "code",
      "source": [
        "#Melhorando a visualização\n",
        "#Código disponível em https://ai.google.dev/tutorials/python_quickstart#import_packages\n",
        "import textwrap\n",
        "\n",
        "from IPython.display import display\n",
        "from IPython.display import Markdown\n",
        "\n",
        "def to_markdown(text):\n",
        "  text = text.replace(\"*\", \" * \")\n",
        "  return Markdown(textwrap.indent(text, '> ', predicate=lambda _: True))\n",
        "\n",
        "#Imprimindo o histórico\n",
        "for message in chat.history:\n",
        "  display(to_markdown(f\"**{message.role}:** {message.parts[0].text}\"))\n",
        "  print('-------------------------------------------')"
      ],
      "metadata": {
        "colab": {
          "base_uri": "https://localhost:8080/",
          "height": 268
        },
        "id": "2OGhFF13-xr7",
        "outputId": "61d292f8-9857-4065-a15c-3cf44873b69d"
      },
      "execution_count": 30,
      "outputs": [
        {
          "output_type": "display_data",
          "data": {
            "text/plain": [
              "<IPython.core.display.Markdown object>"
            ],
            "text/markdown": ">  *  * user: *  *  qual a menor distancia entre dois pontos?"
          },
          "metadata": {}
        },
        {
          "output_type": "stream",
          "name": "stdout",
          "text": [
            "-------------------------------------------\n"
          ]
        },
        {
          "output_type": "display_data",
          "data": {
            "text/plain": [
              "<IPython.core.display.Markdown object>"
            ],
            "text/markdown": ">  *  * model: *  *  Uma linha reta"
          },
          "metadata": {}
        },
        {
          "output_type": "stream",
          "name": "stdout",
          "text": [
            "-------------------------------------------\n"
          ]
        },
        {
          "output_type": "display_data",
          "data": {
            "text/plain": [
              "<IPython.core.display.Markdown object>"
            ],
            "text/markdown": ">  *  * user: *  *  fim"
          },
          "metadata": {}
        },
        {
          "output_type": "stream",
          "name": "stdout",
          "text": [
            "-------------------------------------------\n"
          ]
        },
        {
          "output_type": "display_data",
          "data": {
            "text/plain": [
              "<IPython.core.display.Markdown object>"
            ],
            "text/markdown": ">  *  * model: *  *   *  * Fim *  * "
          },
          "metadata": {}
        },
        {
          "output_type": "stream",
          "name": "stdout",
          "text": [
            "-------------------------------------------\n"
          ]
        }
      ]
    }
  ]
}